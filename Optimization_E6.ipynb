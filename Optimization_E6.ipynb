{
  "nbformat": 4,
  "nbformat_minor": 0,
  "metadata": {
    "colab": {
      "provenance": [],
      "authorship_tag": "ABX9TyMmoP0R2vvTN4yj02HqY1KQ",
      "include_colab_link": true
    },
    "kernelspec": {
      "name": "python3",
      "display_name": "Python 3"
    },
    "language_info": {
      "name": "python"
    }
  },
  "cells": [
    {
      "cell_type": "markdown",
      "metadata": {
        "id": "view-in-github",
        "colab_type": "text"
      },
      "source": [
        "<a href=\"https://colab.research.google.com/github/Thibooooo/Optimisation-Course/blob/main/Optimization_E6.ipynb\" target=\"_parent\"><img src=\"https://colab.research.google.com/assets/colab-badge.svg\" alt=\"Open In Colab\"/></a>"
      ]
    },
    {
      "cell_type": "markdown",
      "source": [
        "Given the following LP problem (the primal problem):\n",
        "\n",
        "Maximize:\n",
        "\n",
        "$x1+4⋅x2+2⋅x3$\n",
        "\n",
        "Subject to:\n",
        "\n",
        "$5⋅x1+2⋅x2+2⋅x3≤145$\n",
        "\n",
        "$4⋅x1+8⋅x2−8⋅x3≤260$\n",
        "\n",
        "$x1+x2+4⋅x3≤190$"
      ],
      "metadata": {
        "id": "kOqtJ9XHKBQ2"
      }
    },
    {
      "cell_type": "markdown",
      "source": [
        "1. We convert the LP problem to a dual LP problem:\n",
        "\n",
        "Minimize:\n",
        "    \n",
        "$145⋅y1+260⋅y2+190⋅y3$\n",
        "\n",
        "Subject to:\n",
        "   \n",
        "$5⋅y1+4⋅y2+y3>=1$.\n",
        "\n",
        "$2⋅y1+8⋅y2+y3>=4$.\n",
        "\n",
        "$2⋅y1-8⋅y2+4⋅y3>=2$.  "
      ],
      "metadata": {
        "id": "PMGuqYRsJ960"
      }
    },
    {
      "cell_type": "markdown",
      "source": [
        "\n",
        "\n",
        "2. To verify $Q=(x_1,x_2,x_3)=(0,52.5,20)$ is a feasible solution, we need to check if this solution meets all the constraints:\n",
        "\n",
        "Constraint 1: $5*0+2*52.5+2*20<=145$.  \n",
        "This is true as $0+105+40=145<=145$.\n",
        "\n",
        "Constraint 2: $4⋅0+8⋅52.5−8⋅2<=260$.  \n",
        "This is also true, as $0+420−160=260≤260$.\n",
        "\n",
        "Constraint 3: $0+52.5+4⋅20<=190$.  \n",
        "This is also true, as $52.5+80=132.5<=190$\n",
        "\n"
      ],
      "metadata": {
        "id": "M8TKI-mwKHY_"
      }
    },
    {
      "cell_type": "markdown",
      "source": [
        "\n",
        "\\begin{document}\n",
        "\n",
        "Problem Primal\n",
        "\\[\n",
        "\\begin{array}{|c|c c c|c|}\n",
        "\\hline\n",
        "\\text{Maximize} & x_1 & x_2 & x_3 & \\\\\n",
        "\\hline\n",
        "\\text{Subject to} & 5x_1 & + 2x_2 & + 2x_3 & \\leq 145 \\\\\n",
        "& 4x_1 & + 8x_2 & - 8x_3 & \\leq 260 \\\\\n",
        "& x_1 & + x_2 & + 4x_3 & \\leq 190 \\\\\n",
        "\\hline\n",
        "\\end{array}\n",
        "\\]\n",
        "\n",
        "Problem Dual\n",
        "\\[\n",
        "\\begin{array}{|c|c c c|c|}\n",
        "\\hline\n",
        "\\text{Minimize} & y_1 & y_2 & y_3 & \\\\\n",
        "\\hline\n",
        "\\text{Subject to} & 5y_1 & + 4y_2 & + y_3 & \\geq 1 \\\\\n",
        "& 2y_1 & + 8y_2 & + y_3 & \\geq 4 \\\\\n",
        "& 2y_1 & - 8y_2 & + 4y_3 & \\geq 2 \\\\\n",
        "\\hline\n",
        "\\end{array}\n",
        "\\]\n",
        "\n",
        "\\end{document}\n"
      ],
      "metadata": {
        "id": "Zgd_VA-OM8yW"
      }
    },
    {
      "cell_type": "markdown",
      "source": [
        "3. We use complimentary slackness to determine a candidate solution to the dual"
      ],
      "metadata": {
        "id": "ya1dH2PxKK1o"
      }
    },
    {
      "cell_type": "code",
      "source": [
        "!pip install ortools"
      ],
      "metadata": {
        "colab": {
          "base_uri": "https://localhost:8080/"
        },
        "id": "bYzFh_xgKNqE",
        "outputId": "a3cf61e7-be21-4915-db48-0877fbc68f5a"
      },
      "execution_count": 1,
      "outputs": [
        {
          "output_type": "stream",
          "name": "stdout",
          "text": [
            "Collecting ortools\n",
            "  Downloading ortools-9.9.3963-cp310-cp310-manylinux_2_17_x86_64.manylinux2014_x86_64.whl (24.8 MB)\n",
            "\u001b[2K     \u001b[90m━━━━━━━━━━━━━━━━━━━━━━━━━━━━━━━━━━━━━━━━\u001b[0m \u001b[32m24.8/24.8 MB\u001b[0m \u001b[31m25.4 MB/s\u001b[0m eta \u001b[36m0:00:00\u001b[0m\n",
            "\u001b[?25hCollecting absl-py>=2.0.0 (from ortools)\n",
            "  Downloading absl_py-2.1.0-py3-none-any.whl (133 kB)\n",
            "\u001b[2K     \u001b[90m━━━━━━━━━━━━━━━━━━━━━━━━━━━━━━━━━━━━━━━━\u001b[0m \u001b[32m133.7/133.7 kB\u001b[0m \u001b[31m6.3 MB/s\u001b[0m eta \u001b[36m0:00:00\u001b[0m\n",
            "\u001b[?25hRequirement already satisfied: numpy>=1.13.3 in /usr/local/lib/python3.10/dist-packages (from ortools) (1.25.2)\n",
            "Requirement already satisfied: pandas>=2.0.0 in /usr/local/lib/python3.10/dist-packages (from ortools) (2.0.3)\n",
            "Collecting protobuf>=4.25.3 (from ortools)\n",
            "  Downloading protobuf-5.26.1-cp37-abi3-manylinux2014_x86_64.whl (302 kB)\n",
            "\u001b[2K     \u001b[90m━━━━━━━━━━━━━━━━━━━━━━━━━━━━━━━━━━━━━━━━\u001b[0m \u001b[32m302.8/302.8 kB\u001b[0m \u001b[31m3.3 MB/s\u001b[0m eta \u001b[36m0:00:00\u001b[0m\n",
            "\u001b[?25hCollecting immutabledict>=3.0.0 (from ortools)\n",
            "  Downloading immutabledict-4.2.0-py3-none-any.whl (4.7 kB)\n",
            "Requirement already satisfied: python-dateutil>=2.8.2 in /usr/local/lib/python3.10/dist-packages (from pandas>=2.0.0->ortools) (2.8.2)\n",
            "Requirement already satisfied: pytz>=2020.1 in /usr/local/lib/python3.10/dist-packages (from pandas>=2.0.0->ortools) (2023.4)\n",
            "Requirement already satisfied: tzdata>=2022.1 in /usr/local/lib/python3.10/dist-packages (from pandas>=2.0.0->ortools) (2024.1)\n",
            "Requirement already satisfied: six>=1.5 in /usr/local/lib/python3.10/dist-packages (from python-dateutil>=2.8.2->pandas>=2.0.0->ortools) (1.16.0)\n",
            "Installing collected packages: protobuf, immutabledict, absl-py, ortools\n",
            "  Attempting uninstall: protobuf\n",
            "    Found existing installation: protobuf 3.20.3\n",
            "    Uninstalling protobuf-3.20.3:\n",
            "      Successfully uninstalled protobuf-3.20.3\n",
            "  Attempting uninstall: absl-py\n",
            "    Found existing installation: absl-py 1.4.0\n",
            "    Uninstalling absl-py-1.4.0:\n",
            "      Successfully uninstalled absl-py-1.4.0\n",
            "\u001b[31mERROR: pip's dependency resolver does not currently take into account all the packages that are installed. This behaviour is the source of the following dependency conflicts.\n",
            "google-ai-generativelanguage 0.4.0 requires protobuf!=3.20.0,!=3.20.1,!=4.21.0,!=4.21.1,!=4.21.2,!=4.21.3,!=4.21.4,!=4.21.5,<5.0.0dev,>=3.19.5, but you have protobuf 5.26.1 which is incompatible.\n",
            "google-api-core 2.11.1 requires protobuf!=3.20.0,!=3.20.1,!=4.21.0,!=4.21.1,!=4.21.2,!=4.21.3,!=4.21.4,!=4.21.5,<5.0.0.dev0,>=3.19.5, but you have protobuf 5.26.1 which is incompatible.\n",
            "google-cloud-aiplatform 1.48.0 requires protobuf!=3.20.0,!=3.20.1,!=4.21.0,!=4.21.1,!=4.21.2,!=4.21.3,!=4.21.4,!=4.21.5,<5.0.0dev,>=3.19.5, but you have protobuf 5.26.1 which is incompatible.\n",
            "google-cloud-bigquery 3.12.0 requires protobuf!=3.20.0,!=3.20.1,!=4.21.0,!=4.21.1,!=4.21.2,!=4.21.3,!=4.21.4,!=4.21.5,<5.0.0dev,>=3.19.5, but you have protobuf 5.26.1 which is incompatible.\n",
            "google-cloud-bigquery-connection 1.12.1 requires protobuf!=3.20.0,!=3.20.1,!=4.21.0,!=4.21.1,!=4.21.2,!=4.21.3,!=4.21.4,!=4.21.5,<5.0.0dev,>=3.19.5, but you have protobuf 5.26.1 which is incompatible.\n",
            "google-cloud-bigquery-storage 2.24.0 requires protobuf!=3.20.0,!=3.20.1,!=4.21.0,!=4.21.1,!=4.21.2,!=4.21.3,!=4.21.4,!=4.21.5,<5.0.0dev,>=3.19.5, but you have protobuf 5.26.1 which is incompatible.\n",
            "google-cloud-datastore 2.15.2 requires protobuf!=3.20.0,!=3.20.1,!=4.21.0,!=4.21.1,!=4.21.2,!=4.21.3,!=4.21.4,!=4.21.5,<5.0.0dev,>=3.19.5, but you have protobuf 5.26.1 which is incompatible.\n",
            "google-cloud-firestore 2.11.1 requires protobuf!=3.20.0,!=3.20.1,!=4.21.0,!=4.21.1,!=4.21.2,!=4.21.3,!=4.21.4,!=4.21.5,<5.0.0dev,>=3.19.5, but you have protobuf 5.26.1 which is incompatible.\n",
            "google-cloud-functions 1.13.3 requires protobuf!=3.20.0,!=3.20.1,!=4.21.0,!=4.21.1,!=4.21.2,!=4.21.3,!=4.21.4,!=4.21.5,<5.0.0dev,>=3.19.5, but you have protobuf 5.26.1 which is incompatible.\n",
            "google-cloud-iam 2.15.0 requires protobuf!=3.20.0,!=3.20.1,!=4.21.0,!=4.21.1,!=4.21.2,!=4.21.3,!=4.21.4,!=4.21.5,<5.0.0dev,>=3.19.5, but you have protobuf 5.26.1 which is incompatible.\n",
            "google-cloud-language 2.13.3 requires protobuf!=3.20.0,!=3.20.1,!=4.21.0,!=4.21.1,!=4.21.2,!=4.21.3,!=4.21.4,!=4.21.5,<5.0.0dev,>=3.19.5, but you have protobuf 5.26.1 which is incompatible.\n",
            "google-cloud-resource-manager 1.12.3 requires protobuf!=3.20.0,!=3.20.1,!=4.21.0,!=4.21.1,!=4.21.2,!=4.21.3,!=4.21.4,!=4.21.5,<5.0.0dev,>=3.19.5, but you have protobuf 5.26.1 which is incompatible.\n",
            "google-cloud-translate 3.11.3 requires protobuf!=3.20.0,!=3.20.1,!=4.21.0,!=4.21.1,!=4.21.2,!=4.21.3,!=4.21.4,!=4.21.5,<5.0.0dev,>=3.19.5, but you have protobuf 5.26.1 which is incompatible.\n",
            "googleapis-common-protos 1.63.0 requires protobuf!=3.20.0,!=3.20.1,!=4.21.1,!=4.21.2,!=4.21.3,!=4.21.4,!=4.21.5,<5.0.0.dev0,>=3.19.5, but you have protobuf 5.26.1 which is incompatible.\n",
            "grpc-google-iam-v1 0.13.0 requires protobuf!=3.20.0,!=3.20.1,!=4.21.1,!=4.21.2,!=4.21.3,!=4.21.4,!=4.21.5,<5.0.0dev,>=3.19.5, but you have protobuf 5.26.1 which is incompatible.\n",
            "proto-plus 1.23.0 requires protobuf<5.0.0dev,>=3.19.0, but you have protobuf 5.26.1 which is incompatible.\n",
            "tensorflow 2.15.0 requires protobuf!=4.21.0,!=4.21.1,!=4.21.2,!=4.21.3,!=4.21.4,!=4.21.5,<5.0.0dev,>=3.20.3, but you have protobuf 5.26.1 which is incompatible.\n",
            "tensorflow-metadata 1.14.0 requires absl-py<2.0.0,>=0.9, but you have absl-py 2.1.0 which is incompatible.\n",
            "tensorflow-metadata 1.14.0 requires protobuf<4.21,>=3.20.3, but you have protobuf 5.26.1 which is incompatible.\u001b[0m\u001b[31m\n",
            "\u001b[0mSuccessfully installed absl-py-2.1.0 immutabledict-4.2.0 ortools-9.9.3963 protobuf-5.26.1\n"
          ]
        }
      ]
    },
    {
      "cell_type": "code",
      "source": [
        "from ortools.linear_solver import pywraplp\n",
        "\n",
        "def solve_lp(c, A, b):\n",
        "    solver = pywraplp.Solver.CreateSolver('GLOP')\n",
        "\n",
        "    n = len(c)\n",
        "    x = [solver.NumVar(0, solver.infinity(), 'x{}'.format(i)) for i in range(n)]\n",
        "\n",
        "    for i in range(len(A)):\n",
        "        constraint_expr = solver.RowConstraint(-solver.infinity(), b[i], '')\n",
        "        for j in range(len(A[i])):\n",
        "            constraint_expr.SetCoefficient(x[j], A[i][j])\n",
        "\n",
        "    objective = solver.Objective()\n",
        "    for j in range(n):\n",
        "        objective.SetCoefficient(x[j], c[j])\n",
        "    objective.SetMaximization()\n",
        "\n",
        "    status = solver.Solve()\n",
        "\n",
        "    if status == pywraplp.Solver.OPTIMAL:\n",
        "        print('Solution:')\n",
        "        print('Objective value =', solver.Objective().Value())\n",
        "        for i in range(n):\n",
        "            print('x{} = {}'.format(i, x[i].solution_value()))\n",
        "    else:\n",
        "        print('The problem does not have an optimal solution.')\n",
        "\n"
      ],
      "metadata": {
        "id": "B4c8F3v1KQoS"
      },
      "execution_count": 4,
      "outputs": []
    },
    {
      "cell_type": "code",
      "source": [
        "#Ex\n",
        "c = [1, 4, 2]\n",
        "A = [[5, 2, 2], [4, 8, -8], [1, 1, 4]]\n",
        "b = [145, 260, 190]\n",
        "\n",
        "solve_lp(c, A, b)"
      ],
      "metadata": {
        "colab": {
          "base_uri": "https://localhost:8080/"
        },
        "id": "KtMplSv4NX8P",
        "outputId": "5131ae06-e962-4113-fcb6-fb341e9367d6"
      },
      "execution_count": 5,
      "outputs": [
        {
          "output_type": "stream",
          "name": "stdout",
          "text": [
            "Solution:\n",
            "Objective value = 249.99999999999994\n",
            "x0 = 0.0\n",
            "x1 = 52.49999999999999\n",
            "x2 = 19.999999999999993\n"
          ]
        }
      ]
    },
    {
      "cell_type": "code",
      "source": [
        "def print_primal_dual_tables(c, A, b, tableau_intermediaire=False):\n",
        "    n = len(c)\n",
        "    m = len(A)\n",
        "    tableau_primal = []\n",
        "    tableau_dual = []\n",
        "\n",
        "    # Problème Primal\n",
        "    primal_str = \"Problem Primal:\\n\"\n",
        "    primal_str += \"| Maximize | \"\n",
        "    for i in range(n):\n",
        "        primal_str += f\"{c[i]}*x{i+1} \"\n",
        "    primal_str += \"|\\n\"\n",
        "\n",
        "    primal_str += \"| Subject to | \"\n",
        "    for i in range(m):\n",
        "        primal_str += \"| \"\n",
        "        for j in range(n):\n",
        "            primal_str += f\"{A[i][j]}*x{j+1} \"\n",
        "        primal_str += f\"<= {b[i]} |\\n\"\n",
        "    primal_str += \"\\n\"\n",
        "    tableau_primal.append(primal_str)\n",
        "\n",
        "\n",
        "    dual_str = \"Problem Dual:\\n\"\n",
        "    dual_str += \"| Minimize | \"\n",
        "    for i in range(m):\n",
        "        dual_str += f\"{b[i]}*y{i+1} \"\n",
        "    dual_str += \"|\\n\"\n",
        "\n",
        "    for j in range(n):\n",
        "        dual_str += \"| Subject to | \"\n",
        "        for i in range(m):\n",
        "            dual_str += f\"{A[i][j]}*y{i+1} \"\n",
        "        dual_str += \">= \"\n",
        "        if c[j] == 1:\n",
        "            dual_str += \"1 |\\n\"\n",
        "        else:\n",
        "            dual_str += f\"{c[j]} |\\n\"\n",
        "    dual_str += \"\\n\"\n",
        "    tableau_dual.append(dual_str)\n",
        "\n",
        "\n",
        "    if tableau_intermediaire:\n",
        "        for i in range(len(tableau_primal)):\n",
        "            print(\"Tableau intermédiaire\", i+1, \":\\n\")\n",
        "            print(tableau_primal[i])\n",
        "            print(tableau_dual[i])\n",
        "\n",
        "def solve_lp(c, A, b, tableau_intermediaire=False):\n",
        "    solver = pywraplp.Solver.CreateSolver('GLOP')\n",
        "\n",
        "    n = len(c)\n",
        "    x = [solver.NumVar(0, solver.infinity(), 'x{}'.format(i)) for i in range(n)]\n",
        "\n",
        "    for i in range(len(A)):\n",
        "        constraint_expr = solver.RowConstraint(-solver.infinity(), b[i], '')\n",
        "        for j in range(len(A[i])):\n",
        "            constraint_expr.SetCoefficient(x[j], A[i][j])\n",
        "\n",
        "    objective = solver.Objective()\n",
        "    for j in range(n):\n",
        "        objective.SetCoefficient(x[j], c[j])\n",
        "    objective.SetMaximization()\n",
        "\n",
        "    status = solver.Solve()\n",
        "\n",
        "    if status == pywraplp.Solver.OPTIMAL:\n",
        "        print('Solution:')\n",
        "        print('Objective value =', solver.Objective().Value())\n",
        "        for i in range(n):\n",
        "            print('x{} = {}'.format(i, x[i].solution_value()))\n",
        "    else:\n",
        "        print('The problem does not have an optimal solution.')\n",
        "\n",
        "    if tableau_intermediaire:\n",
        "        print_primal_dual_tables(c, A, b, tableau_intermediaire=True)\n",
        "\n",
        "\n",
        "c = [1, 4, 2]\n",
        "A = [[5, 2, 2], [4, 8, -8], [1, 1, 4]]\n",
        "b = [145, 260, 190]\n",
        "\n",
        "solve_lp(c, A, b, tableau_intermediaire=True)\n",
        "\n",
        "#I've tried to show a array for each\n"
      ],
      "metadata": {
        "colab": {
          "base_uri": "https://localhost:8080/"
        },
        "id": "EJjXzKf9NCvu",
        "outputId": "193cbd8c-6472-40bb-ada7-4e2d5aaecd86"
      },
      "execution_count": 3,
      "outputs": [
        {
          "output_type": "stream",
          "name": "stdout",
          "text": [
            "Solution:\n",
            "Objective value = 249.99999999999994\n",
            "x0 = 0.0\n",
            "x1 = 52.49999999999999\n",
            "x2 = 19.999999999999993\n",
            "Tableau intermédiaire 1 :\n",
            "\n",
            "Problème Primal:\n",
            "| Maximize | 1*x1 4*x2 2*x3 |\n",
            "| Subject to | | 5*x1 2*x2 2*x3 <= 145 |\n",
            "| 4*x1 8*x2 -8*x3 <= 260 |\n",
            "| 1*x1 1*x2 4*x3 <= 190 |\n",
            "\n",
            "\n",
            "Problème Dual:\n",
            "| Minimize | 145*y1 260*y2 190*y3 |\n",
            "| Subject to | 5*y1 4*y2 1*y3 >= 1 |\n",
            "| Subject to | 2*y1 8*y2 1*y3 >= 4 |\n",
            "| Subject to | 2*y1 -8*y2 4*y3 >= 2 |\n",
            "\n",
            "\n"
          ]
        }
      ]
    },
    {
      "cell_type": "markdown",
      "source": [
        "4. The objective function's value is approximately 250.  \n",
        "The optimal values for the decision variables are:  \n",
        "x1=0.  \n",
        "x2=52,5.  \n",
        "x3=20.  \n",
        "\n",
        "This matches the objective value provided earlier indicating that the solution is optimal. Therefore, the solution $Q=(x_1,x_2,x_3)=(0,52.5,20)$ satisfies both feasibility and optimality, suggesting that it is indeed the optimal solution to the primal problem.\n",
        "\n",
        "\n"
      ],
      "metadata": {
        "id": "OqQijtXYKUmS"
      }
    }
  ]
}