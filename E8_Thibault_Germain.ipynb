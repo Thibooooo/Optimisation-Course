{
  "nbformat": 4,
  "nbformat_minor": 0,
  "metadata": {
    "colab": {
      "provenance": [],
      "authorship_tag": "ABX9TyNvy9nnxt2SWLBH0jmxAacX",
      "include_colab_link": true
    },
    "kernelspec": {
      "name": "python3",
      "display_name": "Python 3"
    },
    "language_info": {
      "name": "python"
    }
  },
  "cells": [
    {
      "cell_type": "markdown",
      "metadata": {
        "id": "view-in-github",
        "colab_type": "text"
      },
      "source": [
        "<a href=\"https://colab.research.google.com/github/Thibooooo/Optimisation-Course/blob/main/E8_Thibault_Germain.ipynb\" target=\"_parent\"><img src=\"https://colab.research.google.com/assets/colab-badge.svg\" alt=\"Open In Colab\"/></a>"
      ]
    },
    {
      "cell_type": "code",
      "execution_count": 14,
      "metadata": {
        "colab": {
          "base_uri": "https://localhost:8080/"
        },
        "id": "CuW1tSY74w1D",
        "outputId": "100dfa27-7f7e-4e3e-8444-371f47417a57"
      },
      "outputs": [
        {
          "output_type": "stream",
          "name": "stdout",
          "text": [
            "Total Days Used: 195\n",
            "Maximum Profit: 84\n",
            "Projects to undertake: [2, 4, 5, 6]\n"
          ]
        }
      ],
      "source": [
        "import pandas as pd\n",
        "df = pd.read_csv('projects.csv')\n",
        "days = df['Days'].tolist()\n",
        "revenues = df['Revenue'].tolist()\n",
        "max_days = 200\n",
        "class Node:\n",
        "    def __init__(self, level, profit, weight, bound, contains):\n",
        "        self.level = level\n",
        "        self.profit = profit\n",
        "        self.weight = weight\n",
        "        self.bound = bound\n",
        "        self.contains = contains\n",
        "\n",
        "def bound(node, n, max_days, revenues, days):\n",
        "    if node.weight >= max_days:\n",
        "        return 0\n",
        "    profit_bound = node.profit\n",
        "    j = node.level + 1\n",
        "    total_weight = node.weight\n",
        "    while j < n and total_weight + days[j] <= max_days:\n",
        "        total_weight += days[j]\n",
        "        profit_bound += revenues[j]\n",
        "        j += 1\n",
        "    if j < n:\n",
        "        profit_bound += (max_days - total_weight) * revenues[j] / days[j]\n",
        "    return profit_bound\n",
        "\n",
        "def knapsack_branch_and_bound(max_days, revenues, days):\n",
        "    n = len(revenues)\n",
        "    queue = []\n",
        "    u = Node(-1, 0, 0, 0.0, [0]*n)\n",
        "    max_profit = 0\n",
        "    best_set = [0]*n\n",
        "    u.bound = bound(u, n, max_days, revenues, days)\n",
        "    queue.append(u)\n",
        "    while queue:\n",
        "        u = queue.pop(0)\n",
        "        if u.level == -1:\n",
        "            level = 0\n",
        "        else:\n",
        "            level = u.level + 1\n",
        "        if level == n:\n",
        "            continue\n",
        "        v_incl = Node(level, u.profit + revenues[level], u.weight + days[level], 0.0, u.contains[:])\n",
        "        v_incl.contains[level] = 1\n",
        "        if v_incl.weight <= max_days and v_incl.profit > max_profit:\n",
        "            max_profit = v_incl.profit\n",
        "            best_set = v_incl.contains[:]\n",
        "        v_incl.bound = bound(v_incl, n, max_days, revenues, days)\n",
        "        if v_incl.bound > max_profit:\n",
        "            queue.append(v_incl)\n",
        "        v_excl = Node(level, u.profit, u.weight, 0.0, u.contains[:])\n",
        "        v_excl.bound = bound(v_excl, n, max_days, revenues, days)\n",
        "\n",
        "        if v_excl.bound > max_profit:\n",
        "            queue.append(v_excl)\n",
        "\n",
        "    return max_profit, best_set\n",
        "max_profit, best_set = knapsack_branch_and_bound(max_days, revenues, days)\n",
        "selected_projects = [i+1 for i in range(len(best_set)) if best_set[i] == 1]\n",
        "total_days_used = sum(days[i] for i in range(len(best_set)) if best_set[i] == 1)\n",
        "print(f'Total Days Used: {total_days_used}')\n",
        "print(f'Maximum Profit: {max_profit}')\n",
        "print(f'Projects to undertake: {selected_projects}')\n",
        "\n"
      ]
    }
  ]
}